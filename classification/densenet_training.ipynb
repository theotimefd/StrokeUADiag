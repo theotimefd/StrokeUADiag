{
 "cells": [
  {
   "cell_type": "code",
   "execution_count": 20,
   "id": "66bd50b4",
   "metadata": {},
   "outputs": [],
   "source": [
    "import logging\n",
    "import os\n",
    "import sys\n",
    "sys.path.append(\"../\")\n",
    "import glob\n",
    "import numpy as np\n",
    "import torch\n",
    "from tqdm import tqdm\n",
    "from torch.utils.tensorboard import SummaryWriter\n",
    "import matplotlib.pyplot as plt\n",
    "import monai\n",
    "from monai.data import ImageDataset, DataLoader\n",
    "import monai.transforms as transforms\n",
    "from monai.transforms import EnsureChannelFirst, Compose, RandRotate90, Resize, ScaleIntensity\n",
    "import nibabel as nib\n",
    "import pandas as pd\n",
    "\n",
    "from utils.custom_transforms import ScaleIntensityFromHistogramPeak, SetBackgroundToZero"
   ]
  },
  {
   "cell_type": "code",
   "execution_count": 2,
   "id": "d94b4352",
   "metadata": {},
   "outputs": [],
   "source": [
    "#ROOT_DIR = \"/home/fehrdelt/bettik/\"\n",
    "ROOT_DIR = \"/bettik/PROJECTS/pr-gin5_aini/fehrdelt/\""
   ]
  },
  {
   "cell_type": "code",
   "execution_count": 3,
   "id": "a27a3708",
   "metadata": {},
   "outputs": [],
   "source": [
    "SUB_EXPERIMENT_NAME = \"densenet3d_exp_0_0\""
   ]
  },
  {
   "cell_type": "markdown",
   "id": "1de24dc3",
   "metadata": {},
   "source": [
    "### Clinical data (class label) 1: nihss>15, 0: nihss<=15"
   ]
  },
  {
   "cell_type": "code",
   "execution_count": 4,
   "id": "29054c96",
   "metadata": {},
   "outputs": [],
   "source": [
    "participants_tsv_path = ROOT_DIR+\"datasets/final_soop_dataset_small/participants.tsv\"\n",
    "\n",
    "participants_df = pd.read_csv(participants_tsv_path, sep=\"\\t\")"
   ]
  },
  {
   "cell_type": "code",
   "execution_count": 5,
   "id": "8d84e776",
   "metadata": {},
   "outputs": [
    {
     "data": {
      "text/html": [
       "<div>\n",
       "<style scoped>\n",
       "    .dataframe tbody tr th:only-of-type {\n",
       "        vertical-align: middle;\n",
       "    }\n",
       "\n",
       "    .dataframe tbody tr th {\n",
       "        vertical-align: top;\n",
       "    }\n",
       "\n",
       "    .dataframe thead th {\n",
       "        text-align: right;\n",
       "    }\n",
       "</style>\n",
       "<table border=\"1\" class=\"dataframe\">\n",
       "  <thead>\n",
       "    <tr style=\"text-align: right;\">\n",
       "      <th></th>\n",
       "      <th>participant_id</th>\n",
       "      <th>sex</th>\n",
       "      <th>age</th>\n",
       "      <th>race</th>\n",
       "      <th>acuteischaemicstroke</th>\n",
       "      <th>priorstroke</th>\n",
       "      <th>bmi</th>\n",
       "      <th>nihss</th>\n",
       "      <th>gs_rankin_6isdeath</th>\n",
       "    </tr>\n",
       "  </thead>\n",
       "  <tbody>\n",
       "    <tr>\n",
       "      <th>0</th>\n",
       "      <td>sub-2</td>\n",
       "      <td>M</td>\n",
       "      <td>78.0</td>\n",
       "      <td>w</td>\n",
       "      <td>1.0</td>\n",
       "      <td>0.0</td>\n",
       "      <td>22.84</td>\n",
       "      <td>17.0</td>\n",
       "      <td>NaN</td>\n",
       "    </tr>\n",
       "    <tr>\n",
       "      <th>1</th>\n",
       "      <td>sub-3</td>\n",
       "      <td>F</td>\n",
       "      <td>87.0</td>\n",
       "      <td>w</td>\n",
       "      <td>1.0</td>\n",
       "      <td>1.0</td>\n",
       "      <td>19.23</td>\n",
       "      <td>15.0</td>\n",
       "      <td>6.0</td>\n",
       "    </tr>\n",
       "    <tr>\n",
       "      <th>2</th>\n",
       "      <td>sub-5</td>\n",
       "      <td>M</td>\n",
       "      <td>58.0</td>\n",
       "      <td>w</td>\n",
       "      <td>1.0</td>\n",
       "      <td>0.0</td>\n",
       "      <td>37.29</td>\n",
       "      <td>1.0</td>\n",
       "      <td>NaN</td>\n",
       "    </tr>\n",
       "    <tr>\n",
       "      <th>3</th>\n",
       "      <td>sub-6</td>\n",
       "      <td>NaN</td>\n",
       "      <td>NaN</td>\n",
       "      <td>NaN</td>\n",
       "      <td>NaN</td>\n",
       "      <td>NaN</td>\n",
       "      <td>NaN</td>\n",
       "      <td>NaN</td>\n",
       "      <td>NaN</td>\n",
       "    </tr>\n",
       "    <tr>\n",
       "      <th>4</th>\n",
       "      <td>sub-7</td>\n",
       "      <td>NaN</td>\n",
       "      <td>NaN</td>\n",
       "      <td>NaN</td>\n",
       "      <td>NaN</td>\n",
       "      <td>NaN</td>\n",
       "      <td>NaN</td>\n",
       "      <td>NaN</td>\n",
       "      <td>NaN</td>\n",
       "    </tr>\n",
       "  </tbody>\n",
       "</table>\n",
       "</div>"
      ],
      "text/plain": [
       "  participant_id  sex   age race  acuteischaemicstroke  priorstroke    bmi  \\\n",
       "0          sub-2    M  78.0    w                   1.0          0.0  22.84   \n",
       "1          sub-3    F  87.0    w                   1.0          1.0  19.23   \n",
       "2          sub-5    M  58.0    w                   1.0          0.0  37.29   \n",
       "3          sub-6  NaN   NaN  NaN                   NaN          NaN    NaN   \n",
       "4          sub-7  NaN   NaN  NaN                   NaN          NaN    NaN   \n",
       "\n",
       "   nihss  gs_rankin_6isdeath  \n",
       "0   17.0                 NaN  \n",
       "1   15.0                 6.0  \n",
       "2    1.0                 NaN  \n",
       "3    NaN                 NaN  \n",
       "4    NaN                 NaN  "
      ]
     },
     "execution_count": 5,
     "metadata": {},
     "output_type": "execute_result"
    }
   ],
   "source": [
    "participants_df.head()"
   ]
  },
  {
   "cell_type": "code",
   "execution_count": 6,
   "id": "a3bee071",
   "metadata": {},
   "outputs": [],
   "source": [
    "# drop rows where 'nihss' is NaN\n",
    "participants_df = participants_df.dropna(subset=[\"nihss\"])"
   ]
  },
  {
   "cell_type": "code",
   "execution_count": 7,
   "id": "5e49b36e",
   "metadata": {},
   "outputs": [
    {
     "data": {
      "text/html": [
       "<div>\n",
       "<style scoped>\n",
       "    .dataframe tbody tr th:only-of-type {\n",
       "        vertical-align: middle;\n",
       "    }\n",
       "\n",
       "    .dataframe tbody tr th {\n",
       "        vertical-align: top;\n",
       "    }\n",
       "\n",
       "    .dataframe thead th {\n",
       "        text-align: right;\n",
       "    }\n",
       "</style>\n",
       "<table border=\"1\" class=\"dataframe\">\n",
       "  <thead>\n",
       "    <tr style=\"text-align: right;\">\n",
       "      <th></th>\n",
       "      <th>participant_id</th>\n",
       "      <th>sex</th>\n",
       "      <th>age</th>\n",
       "      <th>race</th>\n",
       "      <th>acuteischaemicstroke</th>\n",
       "      <th>priorstroke</th>\n",
       "      <th>bmi</th>\n",
       "      <th>nihss</th>\n",
       "      <th>gs_rankin_6isdeath</th>\n",
       "    </tr>\n",
       "  </thead>\n",
       "  <tbody>\n",
       "    <tr>\n",
       "      <th>0</th>\n",
       "      <td>sub-2</td>\n",
       "      <td>M</td>\n",
       "      <td>78.0</td>\n",
       "      <td>w</td>\n",
       "      <td>1.0</td>\n",
       "      <td>0.0</td>\n",
       "      <td>22.84</td>\n",
       "      <td>17.0</td>\n",
       "      <td>NaN</td>\n",
       "    </tr>\n",
       "    <tr>\n",
       "      <th>1</th>\n",
       "      <td>sub-3</td>\n",
       "      <td>F</td>\n",
       "      <td>87.0</td>\n",
       "      <td>w</td>\n",
       "      <td>1.0</td>\n",
       "      <td>1.0</td>\n",
       "      <td>19.23</td>\n",
       "      <td>15.0</td>\n",
       "      <td>6.0</td>\n",
       "    </tr>\n",
       "    <tr>\n",
       "      <th>2</th>\n",
       "      <td>sub-5</td>\n",
       "      <td>M</td>\n",
       "      <td>58.0</td>\n",
       "      <td>w</td>\n",
       "      <td>1.0</td>\n",
       "      <td>0.0</td>\n",
       "      <td>37.29</td>\n",
       "      <td>1.0</td>\n",
       "      <td>NaN</td>\n",
       "    </tr>\n",
       "    <tr>\n",
       "      <th>5</th>\n",
       "      <td>sub-8</td>\n",
       "      <td>F</td>\n",
       "      <td>34.0</td>\n",
       "      <td>b</td>\n",
       "      <td>1.0</td>\n",
       "      <td>0.0</td>\n",
       "      <td>23.14</td>\n",
       "      <td>19.0</td>\n",
       "      <td>NaN</td>\n",
       "    </tr>\n",
       "    <tr>\n",
       "      <th>6</th>\n",
       "      <td>sub-9</td>\n",
       "      <td>F</td>\n",
       "      <td>70.0</td>\n",
       "      <td>w</td>\n",
       "      <td>1.0</td>\n",
       "      <td>0.0</td>\n",
       "      <td>26.89</td>\n",
       "      <td>18.0</td>\n",
       "      <td>4.0</td>\n",
       "    </tr>\n",
       "  </tbody>\n",
       "</table>\n",
       "</div>"
      ],
      "text/plain": [
       "  participant_id sex   age race  acuteischaemicstroke  priorstroke    bmi  \\\n",
       "0          sub-2   M  78.0    w                   1.0          0.0  22.84   \n",
       "1          sub-3   F  87.0    w                   1.0          1.0  19.23   \n",
       "2          sub-5   M  58.0    w                   1.0          0.0  37.29   \n",
       "5          sub-8   F  34.0    b                   1.0          0.0  23.14   \n",
       "6          sub-9   F  70.0    w                   1.0          0.0  26.89   \n",
       "\n",
       "   nihss  gs_rankin_6isdeath  \n",
       "0   17.0                 NaN  \n",
       "1   15.0                 6.0  \n",
       "2    1.0                 NaN  \n",
       "5   19.0                 NaN  \n",
       "6   18.0                 4.0  "
      ]
     },
     "execution_count": 7,
     "metadata": {},
     "output_type": "execute_result"
    }
   ],
   "source": [
    "participants_df.head()"
   ]
  },
  {
   "cell_type": "code",
   "execution_count": 8,
   "id": "c1497959",
   "metadata": {},
   "outputs": [
    {
     "data": {
      "text/html": [
       "<div>\n",
       "<style scoped>\n",
       "    .dataframe tbody tr th:only-of-type {\n",
       "        vertical-align: middle;\n",
       "    }\n",
       "\n",
       "    .dataframe tbody tr th {\n",
       "        vertical-align: top;\n",
       "    }\n",
       "\n",
       "    .dataframe thead th {\n",
       "        text-align: right;\n",
       "    }\n",
       "</style>\n",
       "<table border=\"1\" class=\"dataframe\">\n",
       "  <thead>\n",
       "    <tr style=\"text-align: right;\">\n",
       "      <th></th>\n",
       "      <th>participant_id</th>\n",
       "      <th>sex</th>\n",
       "      <th>age</th>\n",
       "      <th>race</th>\n",
       "      <th>acuteischaemicstroke</th>\n",
       "      <th>priorstroke</th>\n",
       "      <th>bmi</th>\n",
       "      <th>nihss</th>\n",
       "      <th>gs_rankin_6isdeath</th>\n",
       "      <th>high_nihss</th>\n",
       "    </tr>\n",
       "  </thead>\n",
       "  <tbody>\n",
       "    <tr>\n",
       "      <th>0</th>\n",
       "      <td>sub-2</td>\n",
       "      <td>M</td>\n",
       "      <td>78.0</td>\n",
       "      <td>w</td>\n",
       "      <td>1.0</td>\n",
       "      <td>0.0</td>\n",
       "      <td>22.84</td>\n",
       "      <td>17.0</td>\n",
       "      <td>NaN</td>\n",
       "      <td>1</td>\n",
       "    </tr>\n",
       "    <tr>\n",
       "      <th>1</th>\n",
       "      <td>sub-3</td>\n",
       "      <td>F</td>\n",
       "      <td>87.0</td>\n",
       "      <td>w</td>\n",
       "      <td>1.0</td>\n",
       "      <td>1.0</td>\n",
       "      <td>19.23</td>\n",
       "      <td>15.0</td>\n",
       "      <td>6.0</td>\n",
       "      <td>0</td>\n",
       "    </tr>\n",
       "    <tr>\n",
       "      <th>2</th>\n",
       "      <td>sub-5</td>\n",
       "      <td>M</td>\n",
       "      <td>58.0</td>\n",
       "      <td>w</td>\n",
       "      <td>1.0</td>\n",
       "      <td>0.0</td>\n",
       "      <td>37.29</td>\n",
       "      <td>1.0</td>\n",
       "      <td>NaN</td>\n",
       "      <td>0</td>\n",
       "    </tr>\n",
       "    <tr>\n",
       "      <th>5</th>\n",
       "      <td>sub-8</td>\n",
       "      <td>F</td>\n",
       "      <td>34.0</td>\n",
       "      <td>b</td>\n",
       "      <td>1.0</td>\n",
       "      <td>0.0</td>\n",
       "      <td>23.14</td>\n",
       "      <td>19.0</td>\n",
       "      <td>NaN</td>\n",
       "      <td>1</td>\n",
       "    </tr>\n",
       "    <tr>\n",
       "      <th>6</th>\n",
       "      <td>sub-9</td>\n",
       "      <td>F</td>\n",
       "      <td>70.0</td>\n",
       "      <td>w</td>\n",
       "      <td>1.0</td>\n",
       "      <td>0.0</td>\n",
       "      <td>26.89</td>\n",
       "      <td>18.0</td>\n",
       "      <td>4.0</td>\n",
       "      <td>1</td>\n",
       "    </tr>\n",
       "  </tbody>\n",
       "</table>\n",
       "</div>"
      ],
      "text/plain": [
       "  participant_id sex   age race  acuteischaemicstroke  priorstroke    bmi  \\\n",
       "0          sub-2   M  78.0    w                   1.0          0.0  22.84   \n",
       "1          sub-3   F  87.0    w                   1.0          1.0  19.23   \n",
       "2          sub-5   M  58.0    w                   1.0          0.0  37.29   \n",
       "5          sub-8   F  34.0    b                   1.0          0.0  23.14   \n",
       "6          sub-9   F  70.0    w                   1.0          0.0  26.89   \n",
       "\n",
       "   nihss  gs_rankin_6isdeath  high_nihss  \n",
       "0   17.0                 NaN           1  \n",
       "1   15.0                 6.0           0  \n",
       "2    1.0                 NaN           0  \n",
       "5   19.0                 NaN           1  \n",
       "6   18.0                 4.0           1  "
      ]
     },
     "execution_count": 8,
     "metadata": {},
     "output_type": "execute_result"
    }
   ],
   "source": [
    "participants_df[\"high_nihss\"] = (participants_df[\"nihss\"] > 15).astype(np.int64)\n",
    "\n",
    "participants_df.head()"
   ]
  },
  {
   "cell_type": "code",
   "execution_count": 9,
   "id": "eaa0c161",
   "metadata": {},
   "outputs": [
    {
     "name": "stdout",
     "output_type": "stream",
     "text": [
      "high_nihss==1: 209\n",
      "high_nihss==0: 897\n"
     ]
    }
   ],
   "source": [
    "counts = participants_df[\"high_nihss\"].value_counts()\n",
    "count_high_nihss_1 = int(counts.get(1, 0))\n",
    "count_high_nihss_0 = int(counts.get(0, 0))\n",
    "\n",
    "print(f\"high_nihss==1: {count_high_nihss_1}\")\n",
    "print(f\"high_nihss==0: {count_high_nihss_0}\")"
   ]
  },
  {
   "cell_type": "markdown",
   "id": "42a6dd02",
   "metadata": {},
   "source": [
    "### Make the images used for classification\n",
    "Stacking the T2 FLAIR, the anomaly map and the atlas together"
   ]
  },
  {
   "cell_type": "code",
   "execution_count": 10,
   "id": "d38415d7",
   "metadata": {},
   "outputs": [],
   "source": [
    "anomaly_maps_flair_dir = ROOT_DIR+\"datasets/anomaly_maps/exp_1_0/\"\n",
    "flair_dir = ROOT_DIR+\"datasets/final_soop_dataset_small/flair_registered/\"\n",
    "registered_atlases_dir = ROOT_DIR+\"datasets/final_soop_dataset_small/registered_atlases/\"\n",
    "\n",
    "anomaly_maps_paths = glob.glob(anomaly_maps_flair_dir+\"*.nii.gz\")\n",
    "flair_paths = glob.glob(flair_dir+\"*.nii.gz\")\n",
    "registered_atlases_paths = glob.glob(registered_atlases_dir+\"*.nii.gz\")"
   ]
  },
  {
   "cell_type": "code",
   "execution_count": 11,
   "id": "d8b1f6be",
   "metadata": {},
   "outputs": [
    {
     "name": "stdout",
     "output_type": "stream",
     "text": [
      "['sub-185', 'sub_1303', 'sub-199', 'sub-984', 'sub-1138', 'sub-767', 'sub-1251', 'sub-855', 'sub-1660', 'sub-512', 'sub-1698', 'sub-617', 'sub-1119', 'sub-1183', 'sub-1558', 'sub-279', 'sub-846', 'sub-1610', 'sub-1261', 'sub-1308', 'sub-1717', 'sub-7', 'sub-1041', 'sub-343', 'sub-989', 'sub-605', 'sub-234', 'sub-1203', 'sub-1491', 'sub-949', 'sub-1727']\n"
     ]
    }
   ],
   "source": [
    "# read the csv to get files to exclude\n",
    "exclude_csv_path = ROOT_DIR+\"StrokeUADiag/exclude_failed_registration.csv\"\n",
    "exclude_df = pd.read_csv(exclude_csv_path, header=None)\n",
    "\n",
    "\n",
    "\n",
    "exclude_files = exclude_df[0].tolist()\n",
    "\n",
    "print(exclude_files)"
   ]
  },
  {
   "cell_type": "markdown",
   "id": "b6b861aa",
   "metadata": {},
   "source": [
    "### Make stacked images (flair image, anomaly map & registered atlas)"
   ]
  },
  {
   "cell_type": "code",
   "execution_count": 22,
   "id": "e24f4e87",
   "metadata": {},
   "outputs": [],
   "source": [
    "def normalize_from_histogram_peak(image, hist_norm_target_value=200.0):\n",
    "    hist, bins = np.histogram(image, bins=100, range=(np.max(image)/15.0, np.max(image)))\n",
    "\n",
    "    # Find the value corresponding to the maximum of the histogram\n",
    "    most_occurred_pixel_value = bins[np.argmax(hist)]\n",
    "\n",
    "    image_norm = image/most_occurred_pixel_value*hist_norm_target_value # scale it so the peak is always at hist_norm_target_value\n",
    "    \n",
    "    return image_norm"
   ]
  },
  {
   "cell_type": "code",
   "execution_count": null,
   "id": "3bdf260a",
   "metadata": {},
   "outputs": [
    {
     "name": "stderr",
     "output_type": "stream",
     "text": [
      "  0%|                                                                                                                                            | 0/1216 [00:00<?, ?it/s]\n"
     ]
    },
    {
     "ename": "AttributeError",
     "evalue": "'numpy.ndarray' object has no attribute 'affine'",
     "output_type": "error",
     "traceback": [
      "\u001b[31m---------------------------------------------------------------------------\u001b[39m",
      "\u001b[31mAttributeError\u001b[39m                            Traceback (most recent call last)",
      "\u001b[36mCell\u001b[39m\u001b[36m \u001b[39m\u001b[32mIn[23]\u001b[39m\u001b[32m, line 16\u001b[39m\n\u001b[32m     13\u001b[39m registered_atlas_image = nib.load(registered_atlas_path).get_fdata()*\u001b[32m10.0\u001b[39m\n\u001b[32m     15\u001b[39m stacked_data = np.stack([flair_image, ano_map_image, registered_atlas_image], axis=-\u001b[32m1\u001b[39m)\n\u001b[32m---> \u001b[39m\u001b[32m16\u001b[39m stacked_img = nib.Nifti1Image(stacked_data, affine=\u001b[43mflair_image\u001b[49m\u001b[43m.\u001b[49m\u001b[43maffine\u001b[49m)\n\u001b[32m     17\u001b[39m nib.save(stacked_img, ROOT_DIR+\u001b[33mf\u001b[39m\u001b[33m\"\u001b[39m\u001b[33mdatasets/StrokeUADiag_classification_inputs/stacked_\u001b[39m\u001b[38;5;132;01m{\u001b[39;00m\u001b[38;5;28mid\u001b[39m\u001b[38;5;132;01m}\u001b[39;00m\u001b[33m.nii.gz\u001b[39m\u001b[33m\"\u001b[39m)\n",
      "\u001b[31mAttributeError\u001b[39m: 'numpy.ndarray' object has no attribute 'affine'"
     ]
    }
   ],
   "source": [
    "\n",
    "for image_path in tqdm(anomaly_maps_paths):\n",
    "\n",
    "    id = os.path.basename(image_path).replace(\".nii.gz\", \"\").split('_')[-2]\n",
    "    \n",
    "    if id not in exclude_files:\n",
    "\n",
    "        flair_img_path = flair_dir + id + \"_FLAIR.nii.gz\"\n",
    "        registered_atlas_path = registered_atlases_dir + f\"registered_atlas_{id}_FLAIR.nii.gz\"\n",
    "\n",
    "\n",
    "        ano_map_image = nib.load(image_path).get_fdata()*500.0\n",
    "        flair_nii = nib.load(flair_img_path)\n",
    "        flair_image = normalize_from_histogram_peak(flair_nii.get_fdata(), hist_norm_target_value=200.0)\n",
    "        registered_atlas_image = nib.load(registered_atlas_path).get_fdata()*10.0\n",
    "\n",
    "        stacked_data = np.stack([flair_image, ano_map_image, registered_atlas_image], axis=-1)\n",
    "\n",
    "        stacked_img = nib.Nifti1Image(stacked_data, affine=flair_nii.affine)\n",
    "\n",
    "        nib.save(stacked_img, ROOT_DIR+f\"datasets/StrokeUADiag_classification_inputs/stacked_{id}.nii.gz\")\n",
    "    \n",
    "    "
   ]
  },
  {
   "cell_type": "code",
   "execution_count": 18,
   "id": "45a17bc2",
   "metadata": {},
   "outputs": [
    {
     "name": "stdout",
     "output_type": "stream",
     "text": [
      "(3, 128, 128, 128)\n"
     ]
    }
   ],
   "source": [
    "img = nib.load(ROOT_DIR+f\"datasets/StrokeUADiag_classification_inputs/stacked_sub-139.nii.gz\")\n",
    "print(img.shape)"
   ]
  },
  {
   "cell_type": "markdown",
   "id": "4826e6a0",
   "metadata": {},
   "source": [
    "### Model training"
   ]
  },
  {
   "cell_type": "code",
   "execution_count": null,
   "id": "4cf800aa",
   "metadata": {},
   "outputs": [],
   "source": [
    "num_channels = 3\n",
    "image_size = 128"
   ]
  },
  {
   "cell_type": "code",
   "execution_count": null,
   "id": "d7b65a86",
   "metadata": {},
   "outputs": [],
   "source": [
    "labels = []\n",
    "\n",
    "for image_path in glob.glob(ROOT_DIR+\"datasets/classification_inputs/stacked_*.nii.gz\"):\n",
    "    id = os.path.basename(image_path).replace(\".nii.gz\", \"\").split('_')[-1]\n",
    "    print(id)\n",
    "    label = participants_df.loc[participants_df['participant_id'] == int(id), 'high_nihss'].values[0]\n",
    "    labels.append(label)\n",
    "\n",
    "print(labels)\n",
    "    "
   ]
  },
  {
   "cell_type": "code",
   "execution_count": null,
   "id": "c089423d",
   "metadata": {},
   "outputs": [],
   "source": [
    "\n",
    "\n",
    "images = glob.glob(ROOT_DIR+\"datasets/classification_inputs/stacked_*.nii.gz\")\n",
    "\n",
    "# Define transforms\n",
    "train_transforms = Compose([\n",
    "    transforms.LoadImage(image_only=True),\n",
    "    transforms.EnsureChannelFirst(),\n",
    "    transforms.RandAffine(prob=0.5, rotate_range=(0.1, 0.1, 0.1)),\n",
    "    ScaleIntensityFromHistogramPeak(), \n",
    "    transforms.RandScaleCrop(roi_scale=0.9, max_roi_scale=1.1, random_size=True),\n",
    "    transforms.ResizeWithPadOrCrop((num_channels, image_size, image_size, image_size)),\n",
    "    transforms.ScaleIntensityRange(a_min=0.0, a_max=700.0, b_min=0.0, b_max=1.0, clip=True),\n",
    "    transforms.RandFlip(spatial_axis=1, prob=0.5),\n",
    "    SetBackgroundToZero()\n",
    "    ])\n",
    "\n",
    "val_transforms = Compose([\n",
    "    transforms.LoadImage(image_only=True),\n",
    "    transforms.EnsureChannelFirst(),\n",
    "    ScaleIntensityFromHistogramPeak(), \n",
    "    transforms.ResizeWithPadOrCrop((num_channels, image_size, image_size, image_size)),\n",
    "    transforms.ScaleIntensityRange(a_min=0.0, a_max=700.0, b_min=0.0, b_max=1.0, clip=True),\n",
    "    SetBackgroundToZero()\n",
    "    ])\n",
    "\n",
    "# Define image dataset, data loader\n",
    "check_ds = ImageDataset(image_files=images, labels=labels, transform=train_transforms)\n",
    "check_loader = DataLoader(check_ds, batch_size=2, num_workers=2, pin_memory=torch.cuda.is_available())\n",
    "im, label = monai.utils.misc.first(check_loader)\n",
    "print(type(im), im.shape, label)\n",
    "\n",
    "# create a training data loader\n",
    "train_ds = ImageDataset(image_files=images[:10], labels=labels[:10], transform=train_transforms)\n",
    "train_loader = DataLoader(train_ds, batch_size=2, shuffle=True, num_workers=2, pin_memory=torch.cuda.is_available())\n",
    "\n",
    "# create a validation data loader\n",
    "val_ds = ImageDataset(image_files=images[-10:], labels=labels[-10:], transform=val_transforms)\n",
    "val_loader = DataLoader(val_ds, batch_size=2, num_workers=2, pin_memory=torch.cuda.is_available())\n",
    "\n"
   ]
  },
  {
   "cell_type": "markdown",
   "id": "9d338bd8",
   "metadata": {},
   "source": [
    "**Vérif image que le randflip ce soit bon**"
   ]
  },
  {
   "cell_type": "code",
   "execution_count": null,
   "id": "e60da4cf",
   "metadata": {},
   "outputs": [],
   "source": [
    "\n",
    "# Create DenseNet121, CrossEntropyLoss and Adam optimizer\n",
    "\n",
    "device = torch.device(\"cuda\" if torch.cuda.is_available() else \"cpu\")\n",
    "\n",
    "model = monai.networks.nets.DenseNet121(spatial_dims=3, in_channels=num_channels, out_channels=2).to(device)\n",
    "\n",
    "loss_function = torch.nn.CrossEntropyLoss()\n",
    "optimizer = torch.optim.Adam(model.parameters(), 1e-5)\n"
   ]
  },
  {
   "cell_type": "markdown",
   "id": "a85e25c4",
   "metadata": {},
   "source": [
    "### Training"
   ]
  },
  {
   "cell_type": "code",
   "execution_count": null,
   "id": "bf78f1aa",
   "metadata": {},
   "outputs": [],
   "source": [
    "\n",
    "# start a typical PyTorch training\n",
    "val_interval = 2\n",
    "best_metric = -1\n",
    "epoch_loss_values = list()\n",
    "metric_values = list()\n",
    "\n",
    "os.makedirs(ROOT_DIR+f\"StrokeUADiag/tensorboard/{SUB_EXPERIMENT_NAME}\", exist_ok=True)\n",
    "writer = SummaryWriter(ROOT_DIR+f\"StrokeUADiag/tensorboard/{SUB_EXPERIMENT_NAME}\")\n",
    "\n",
    "\n",
    "for epoch in range(5):\n",
    "    print(\"-\" * 10)\n",
    "    print(f\"epoch {epoch + 1}/{5}\")\n",
    "    model.train()\n",
    "    epoch_loss = 0\n",
    "    step = 0\n",
    "    for batch_data in train_loader:\n",
    "        step += 1\n",
    "        inputs, labels = batch_data[0].to(device), batch_data[1].to(device)\n",
    "        optimizer.zero_grad()\n",
    "        outputs = model(inputs)\n",
    "        loss = loss_function(outputs, labels)\n",
    "        loss.backward()\n",
    "        optimizer.step()\n",
    "        epoch_loss += loss.item()\n",
    "        epoch_len = len(train_ds) // train_loader.batch_size\n",
    "        print(f\"{step}/{epoch_len}, train_loss: {loss.item():.4f}\")\n",
    "        writer.add_scalar(\"train_loss\", loss.item(), epoch_len * epoch + step)\n",
    "    epoch_loss /= step\n",
    "    epoch_loss_values.append(epoch_loss)\n",
    "    print(f\"epoch {epoch + 1} average loss: {epoch_loss:.4f}\")\n",
    "\n",
    "    if (epoch + 1) % val_interval == 0:\n",
    "        model.eval()\n",
    "        with torch.no_grad():\n",
    "            num_correct = 0.0\n",
    "            metric_count = 0\n",
    "            for val_data in val_loader:\n",
    "                val_images, val_labels = val_data[0].to(device), val_data[1].to(device)\n",
    "                val_outputs = model(val_images)\n",
    "                value = torch.eq(val_outputs.argmax(dim=1), val_labels)\n",
    "                metric_count += len(value)\n",
    "                num_correct += value.sum().item()\n",
    "            metric = num_correct / metric_count\n",
    "            metric_values.append(metric)\n",
    "            if metric > best_metric:\n",
    "                best_metric = metric\n",
    "                best_metric_epoch = epoch + 1\n",
    "                torch.save(model.state_dict(), \"best_metric_model_classification3d_array.pth\")\n",
    "                print(\"saved new best metric model\")\n",
    "            print(\n",
    "                \"current epoch: {} current accuracy: {:.4f} best accuracy: {:.4f} at epoch {}\".format(\n",
    "                    epoch + 1, metric, best_metric, best_metric_epoch\n",
    "                )\n",
    "            )\n",
    "            writer.add_scalar(\"val_accuracy\", metric, epoch + 1)\n",
    "print(f\"train completed, best_metric: {best_metric:.4f} at epoch: {best_metric_epoch}\")\n",
    "writer.close()\n"
   ]
  }
 ],
 "metadata": {
  "kernelspec": {
   "display_name": "ddpm_env_kraken",
   "language": "python",
   "name": "ddpm_env_kraken"
  },
  "language_info": {
   "codemirror_mode": {
    "name": "ipython",
    "version": 3
   },
   "file_extension": ".py",
   "mimetype": "text/x-python",
   "name": "python",
   "nbconvert_exporter": "python",
   "pygments_lexer": "ipython3",
   "version": "3.13.5"
  }
 },
 "nbformat": 4,
 "nbformat_minor": 5
}
